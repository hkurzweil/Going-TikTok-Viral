{
 "cells": [
  {
   "cell_type": "code",
   "execution_count": 228,
   "id": "804752a6-68c0-4d4c-87a2-f555959470f5",
   "metadata": {
    "scrolled": true
   },
   "outputs": [
    {
     "data": {
      "text/html": [
       "<style>\n",
       ".jp-Cell:nth-child(1) .jp-InputArea,\n",
       ".jp-Cell:nth-child(3) .jp-InputArea,\n",
       ".jp-Cell:nth-child(18) .jp-InputArea {\n",
       "        display: none !important;\n",
       "    }\n",
       "</style>\n"
      ],
      "text/plain": [
       "<IPython.core.display.HTML object>"
      ]
     },
     "metadata": {},
     "output_type": "display_data"
    }
   ],
   "source": [
    "%%html\n",
    "<style>\n",
    ".jp-Cell:nth-child(1) .jp-InputArea,\n",
    ".jp-Cell:nth-child(3) .jp-InputArea,\n",
    ".jp-Cell:nth-child(18) .jp-InputArea {\n",
    "        display: none !important;\n",
    "    }\n",
    "</style>"
   ]
  },
  {
   "cell_type": "markdown",
   "id": "5b891d1b-1bc9-4444-94e9-cafd92f22553",
   "metadata": {},
   "source": [
    "# 🎵 Going Viral: Analyzing TikTok Success with Data Science\n",
    "\n",
    "In this lesson, we'll explore what makes TikTok videos go viral using data science! We'll analyze real patterns in social media engagement and learn how to optimize content for better reach.\n",
    "## 📚 Prerequisites\n",
    "\n",
    "- Basic Python knowledge\n",
    "- Installed libraries: pandas, matplotlib, seaborn, numpy\n",
    "\n",
    "## 🎯 Learning Objectives\n",
    "\n",
    "- Analyze TikTok engagement patterns using real data\n",
    "- Understand the relationship between posting time and video success\n",
    "- Identify which content categories perform best\n",
    "- Learn how video characteristics affect engagement\n",
    "- Create data-driven content strategies\n",
    "\n",
    "## 📊 Part 1: Exploratory Data Analysis\n",
    "First, we'll examine our TikTok dataset which contains information about:\n",
    "\n",
    "- Views, likes, comments, and shares\n",
    "- Video duration\n",
    "- Posting time\n",
    "- Music usage\n",
    "- Hashtag count\n",
    "- Content category"
   ]
  },
  {
   "cell_type": "code",
   "execution_count": null,
   "id": "3246273b-f20b-460b-a8b7-d7171022b5cd",
   "metadata": {},
   "outputs": [],
   "source": [
    "import pandas as pd\n",
    "import matplotlib.pyplot as plt\n",
    "import seaborn as sns\n",
    "from datetime import datetime\n",
    "import numpy as np\n",
    "from IPython.display import display, Javascript\n",
    "\n",
    "# Enhanced dataset with categories\n",
    "categories = ['Dance', 'Comedy', 'Tutorial', 'Lifestyle', 'Food', 'Gaming', 'Music', 'Fashion', 'Sports', 'News']\n",
    "\n",
    "# Create base data\n",
    "np.random.seed(42)  # For reproducibility\n",
    "n_samples = 100\n",
    "\n",
    "# Generate video duration pattern\n",
    "duration_sec = np.random.uniform(5, 60, n_samples)\n",
    "base_engagement = 20 - (0.3 * duration_sec)  \n",
    "noise = np.random.normal(0, 2, n_samples)    \n",
    "engagement_rate = base_engagement + noise\n",
    "\n",
    "# Generate time posted data\n",
    "hour_weights = np.ones(24) * 0.5  \n",
    "hour_weights[19:22] = 8.0 \n",
    "hour_weights[15:17] = 4.0 \n",
    "hour_weights[12:13] = 3.0 \n",
    "hour_weights[2:5] = 0.1\n",
    "# Normalize weights\n",
    "hour_weights = hour_weights / hour_weights.sum()\n",
    "\n",
    "data = {\n",
    "    'video_id': range(1, n_samples + 1),\n",
    "    'duration_sec': duration_sec,\n",
    "    'post_hour': np.random.choice(range(24), size=n_samples, p=hour_weights),\n",
    "    'has_music': np.random.choice([True, False], size=n_samples, p=[0.8, 0.2]),\n",
    "    'hashtag_count': np.random.randint(0, 8, n_samples),\n",
    "    'category': np.random.choice(categories, size=n_samples),\n",
    "    'engagement_rate': engagement_rate\n",
    "}\n",
    "\n",
    "df = pd.DataFrame(data)\n",
    "time_multiplier = np.where(df['post_hour'].between(19, 21), 2.5,  \n",
    "                  np.where(df['post_hour'].between(15, 17), 1.8,   \n",
    "                  np.where(df['post_hour'].between(12, 13), 1.5,   \n",
    "                  np.where(df['post_hour'].between(2, 5), 0.3,     \n",
    "                  1.0))))  \n",
    "\n",
    "df['views'] = np.random.exponential(scale=100000, size=n_samples) * time_multiplier\n",
    "df['likes'] = df['views'] * df['engagement_rate']/100 * np.random.uniform(0.8, 1.2, n_samples)\n",
    "df['comments'] = df['views'] * df['engagement_rate']/500 * np.random.uniform(0.8, 1.2, n_samples)\n",
    "df['shares'] = df['views'] * df['engagement_rate']/200 * np.random.uniform(0.8, 1.2, n_samples)\n",
    "\n",
    "# Round appropriate columns\n",
    "df['engagement_rate'] = df['engagement_rate'].round(2)\n",
    "df['likes'] = df['likes'].round(0)\n",
    "df['comments'] = df['comments'].round(0)\n",
    "df['shares'] = df['shares'].round(0)\n",
    "\n",
    "print(\"Dataset Preview:\")\n",
    "print(df.head())\n",
    "\n",
    "print(\"\\nSummary Statistics:\")\n",
    "print(df[['views', 'engagement_rate', 'duration_sec']].describe())"
   ]
  },
  {
   "cell_type": "markdown",
   "id": "a285e458-d9c2-49ba-a8cd-6c48a5ed0c4a",
   "metadata": {},
   "source": [
    "## 🔍 Key Metrics\n",
    "We'll focus on these engagement metrics:\n",
    "\n",
    "- Views\n",
    "- Likes\n",
    "- Comments\n",
    "- Shares\n",
    "- Engagement Rate (calculated as: (likes + comments + shares) / views * 100)\n",
    "\n",
    "## 🎯 Activities\n",
    "### Activity 1: Time Analysis\n",
    "Let's discover the best times to post on TikTok!"
   ]
  },
  {
   "cell_type": "code",
   "execution_count": 230,
   "id": "810bbb26-bd97-4e7c-8700-bdbd3d3eebf2",
   "metadata": {},
   "outputs": [],
   "source": [
    "# Create a box plot of views by posting hour\n",
    "# Delete this line (and hashtag at the beginning!) and input your code here, then press Control+Enter to run the cell"
   ]
  },
  {
   "cell_type": "markdown",
   "id": "908442b6-a589-4be8-baea-51779e33d98f",
   "metadata": {},
   "source": [
    "Questions to Consider:\n",
    "\n",
    "1. What patterns do you notice in viewing times?\n",
    "2. When are engagement rates highest?\n",
    "3. How might this affect your posting strategy?"
   ]
  },
  {
   "cell_type": "markdown",
   "id": "25344339-d99f-41d0-aaf1-18ae400af6c7",
   "metadata": {},
   "source": [
    "### Activity 2: Category Analysis\n",
    "Different types of content perform differently. Let's analyze which categories get the most engagement!"
   ]
  },
  {
   "cell_type": "code",
   "execution_count": null,
   "id": "26e7254f-e35a-4f22-ab58-fa1b76504b2e",
   "metadata": {},
   "outputs": [],
   "source": [
    "# Create a bar plot of engagement rates by category\n",
    "# Delete this line (and hashtag at the beginning!) and input your code here, then press Control+Enter to run the cell"
   ]
  },
  {
   "cell_type": "markdown",
   "id": "1eb820fa-c6ab-4329-8b30-10ee19fe6724",
   "metadata": {},
   "source": [
    "Discussion Points:\n",
    "\n",
    "1. Which categories have the highest engagement rates?\n",
    "2. Why might certain categories perform better?\n",
    "3. How could this inform content strategy?"
   ]
  },
  {
   "cell_type": "markdown",
   "id": "53756dfd-d1f0-45cd-97de-5bf31148f6e9",
   "metadata": {},
   "source": [
    "### Activity 3: Video Duration Analysis\n",
    "Does video length matter? Let's find out!"
   ]
  },
  {
   "cell_type": "code",
   "execution_count": null,
   "id": "1e3ea013-ada8-4f01-bae5-6f26dd977ac9",
   "metadata": {},
   "outputs": [],
   "source": [
    "# Create a scatter plot of duration vs engagement\n",
    "# Delete this line (and hashtag at the beginning!) and input your code here, then press Control+Enter to run the cell"
   ]
  },
  {
   "cell_type": "markdown",
   "id": "b0d88986-7230-4ffb-872e-5eba3c96149e",
   "metadata": {},
   "source": [
    "Analysis Questions:\n",
    "\n",
    "1. Is there an optimal video length?\n",
    "2. How does duration affect different types of content?\n",
    "3. What length would you recommend for your content?"
   ]
  },
  {
   "cell_type": "markdown",
   "id": "f97fcc71-e7c1-460b-b4e7-daa6e725a06b",
   "metadata": {},
   "source": [
    "### Activity 4: Correlation Analysis\n",
    "Let's see how different metrics relate to each other."
   ]
  },
  {
   "cell_type": "code",
   "execution_count": null,
   "id": "ca05df8a-c3bb-46ca-8eab-b4dbb3d0ac03",
   "metadata": {},
   "outputs": [],
   "source": [
    "# Create a correlation heatmap\n",
    "# Delete this line (and hashtag at the beginning!) and input your code here, then press Control+Enter to run the cell"
   ]
  },
  {
   "cell_type": "markdown",
   "id": "f6c65d63-c4cc-4666-844b-53a857ad4a1d",
   "metadata": {},
   "source": [
    "Think About:\n",
    "\n",
    "1. Which metrics are most strongly correlated?\n",
    "2. What insights can we draw from these relationships?\n",
    "3. How could this inform content creation?"
   ]
  },
  {
   "cell_type": "markdown",
   "id": "853bd5e0-fc48-4dd5-ad82-10a7ef560e01",
   "metadata": {},
   "source": [
    "## 🎮 Interactive Challenge: Design Your TikTok!\n",
    "Now it's your turn to apply what you've learned! Design your own TikTok video concept and see how it might perform.\n",
    "Your video design should consider:\n",
    "\n",
    "- Duration\n",
    "- Number of hashtags\n",
    "- Music usage\n",
    "- Posting time\n",
    "- Content category"
   ]
  },
  {
   "cell_type": "code",
   "execution_count": null,
   "id": "ee1a6b97-5fc7-485d-889e-8544ffdba18d",
   "metadata": {},
   "outputs": [],
   "source": [
    "# Run this cell to design your video!\n",
    "# Please click \"Run\" at the top of your screen and then press \"Run Selected Cell and All Below\" "
   ]
  },
  {
   "cell_type": "code",
   "execution_count": null,
   "id": "cb3b38b0-f3c7-4641-8266-4a84d89992c1",
   "metadata": {},
   "outputs": [],
   "source": [
    "def predict_success(duration, hashtags, has_music, hour, category):\n",
    "    \"\"\"\n",
    "    Enhanced scoring system for video potential\n",
    "    \"\"\"\n",
    "    score = 0\n",
    "    \n",
    "    # Duration factor (videos between 15-30 seconds get bonus)\n",
    "    if 15 <= duration <= 30:\n",
    "        score += 25\n",
    "    elif 30 < duration <= 45:\n",
    "        score += 15\n",
    "    else:\n",
    "        score += 10\n",
    "        \n",
    "    # Hashtag factor (3-5 hashtags optimal)\n",
    "    if 3 <= hashtags <= 5:\n",
    "        score += 20\n",
    "    else:\n",
    "        score += 10\n",
    "        \n",
    "    # Music factor (adjusted for News category)\n",
    "    if has_music and category != 'News':\n",
    "        score += 20\n",
    "    elif has_music and category == 'News':\n",
    "        score += 10  # Less important for news content\n",
    "    \n",
    "    # Time factor (adjusted for News and Sports)\n",
    "    if category == 'News':\n",
    "        # News content can perform well during morning and evening hours\n",
    "        if 7 <= hour <= 9 or 18 <= hour <= 22:\n",
    "            score += 20\n",
    "        else:\n",
    "            score += 10\n",
    "    elif category == 'Sports':\n",
    "        # Sports content often performs best during/after game times\n",
    "        if 19 <= hour <= 23:  # Evening games/highlights\n",
    "            score += 20\n",
    "        else:\n",
    "            score += 15\n",
    "    else:\n",
    "        # Standard timing for other categories\n",
    "        if 18 <= hour <= 22:\n",
    "            score += 20\n",
    "        elif 12 <= hour <= 17:\n",
    "            score += 15\n",
    "        else:\n",
    "            score += 10\n",
    "        \n",
    "    # Category factor\n",
    "    category_scores = {\n",
    "        'Dance': 15,\n",
    "        'Comedy': 15,\n",
    "        'Tutorial': 12,\n",
    "        'Lifestyle': 10,\n",
    "        'Food': 12,\n",
    "        'Gaming': 10,\n",
    "        'Music': 15,\n",
    "        'Fashion': 12,\n",
    "        'Sports': 15,\n",
    "        'News': 13\n",
    "    }\n",
    "    score += category_scores.get(category, 10)\n",
    "    \n",
    "    return score\n",
    "\n",
    "def get_user_video_idea():\n",
    "    print(\"\\n🎥 Let's design your TikTok video!\")\n",
    "    \n",
    "    duration = float(input(\"How long will your video be (in seconds)? \"))\n",
    "    hashtags = int(input(\"How many hashtags will you use? \"))\n",
    "    has_music = input(\"Will your video have music? (yes/no) \").lower().startswith('y')\n",
    "    hour = int(input(\"What hour will you post? (0-23) \"))\n",
    "    \n",
    "    print(\"\\nCategories:\", ', '.join(categories))\n",
    "    category = input(\"What category is your video? \").capitalize()\n",
    "    \n",
    "    return {\n",
    "        'duration': duration,\n",
    "        'hashtags': hashtags,\n",
    "        'has_music': has_music,\n",
    "        'hour': hour,\n",
    "        'category': category\n",
    "    }\n",
    "\n",
    "# Run the interactive challenge\n",
    "video_idea = get_user_video_idea()\n",
    "score = predict_success(**video_idea)\n",
    "print(f\"\\nYour video score is: {score}/100\")"
   ]
  },
  {
   "cell_type": "markdown",
   "id": "c7724e1f-2f66-43ad-84bc-bcbcae12da65",
   "metadata": {},
   "source": [
    "## 📝 Group Activities\n",
    "### Team Challenges\n",
    "\n",
    "1. Form teams and compete to create the highest-scoring video concept\n",
    "2. Analyze real trending TikToks and compare them to our predictions\n",
    "3. Create a presentation about why certain categories perform better\n",
    "4. Design a marketing strategy based on the data analysis\n",
    "\n",
    "Discussion Questions\n",
    "\n",
    "1. Why do you think certain categories perform better than others?\n",
    "2. How might these patterns change during different seasons or events?\n",
    "3. What other factors might influence a video's success?\n",
    "4. How could we improve our prediction model?\n",
    "\n",
    "## 📈 Extended Learning\n",
    "\n",
    "- Research how trends have changed over time\n",
    "- Compare findings with other social media platforms\n",
    "- Consider how cultural events affect engagement patterns\n",
    "- Explore machine learning approaches to predict video success\n",
    "\n",
    "## 🎓 Assessment Ideas\n",
    "\n",
    "- Create a data-driven content strategy\n",
    "- Design and analyze a hypothetical viral campaign\n",
    "- Present findings about optimal posting strategies\n",
    "- Develop a prediction model for video success\n",
    "\n",
    "Remember: Social media trends change constantly! These patterns might shift over time, so always stay current with your analysis."
   ]
  }
 ],
 "metadata": {
  "kernelspec": {
   "display_name": "Python 3 (ipykernel)",
   "language": "python",
   "name": "python3"
  },
  "language_info": {
   "codemirror_mode": {
    "name": "ipython",
    "version": 3
   },
   "file_extension": ".py",
   "mimetype": "text/x-python",
   "name": "python",
   "nbconvert_exporter": "python",
   "pygments_lexer": "ipython3",
   "version": "3.12.4"
  }
 },
 "nbformat": 4,
 "nbformat_minor": 5
}
